{
 "cells": [
  {
   "cell_type": "markdown",
   "metadata": {},
   "source": [
    "## CoffeePython POS Terminal"
   ]
  },
  {
   "cell_type": "markdown",
   "metadata": {},
   "source": [
    "CoffeePython is a new specialty coffee place along Katipunan. It commissioned students to build a crude character-mode terminal based on Python.\n",
    "\n",
    "It has the following products:\n",
    "\n",
    "\n",
    "| Code          | Product Name  |  Price |\n",
    "|---------------|---------------|--------|\n",
    "| brewedcoffee  | Brewed Coffee | 120.00 |\n",
    "| espresso      | Espresso      | 140.00 |\n",
    "| americano     | Americano     | 150.00 |\n",
    "| capuccino     | Capuccino     | 170.00 |\n"
   ]
  },
  {
   "cell_type": "markdown",
   "metadata": {},
   "source": [
    "A Python dictionary containing the product information has already been created by someone else:\n",
    "    "
   ]
  },
  {
   "cell_type": "code",
   "execution_count": 1,
   "metadata": {},
   "outputs": [],
   "source": [
    "products = {\n",
    "    \"brewedcoffee\":{\"name\":\"Brewed Coffee\",\"price\":120.00},\n",
    "    \"espresso\":{\"name\":\"Espresso\",\"price\":140.00},\n",
    "    \"americano\":{\"name\":\"Americano\",\"price\":150.00},\n",
    "    \"capuccino\":{\"name\":\"Capuccino\",\"price\":170.00},\n",
    "}"
   ]
  },
  {
   "cell_type": "markdown",
   "metadata": {},
   "source": [
    "### 1. product information lookup function (3 points)\n",
    "\n",
    "Write a function ```get_product(code)``` where code is the key of the product information in the products dictionary. The function should return the dictionary containing the specific product information.\n",
    "For example:\n",
    "\n",
    "\n",
    "**```get_product(\"espresso\")```**\n",
    "\n",
    "should yield\n",
    "\n",
    "**```{\"name\":\"Espresso\",\"price\":140.00}```**\n"
   ]
  },
  {
   "cell_type": "code",
   "execution_count": 2,
   "metadata": {},
   "outputs": [
    {
     "data": {
      "text/plain": [
       "{'name': 'Brewed Coffee', 'price': 120.0}"
      ]
     },
     "execution_count": 2,
     "metadata": {},
     "output_type": "execute_result"
    }
   ],
   "source": [
    "products = {\n",
    "    \"brewedcoffee\":{\"name\":\"Brewed Coffee\",\"price\":120.00},\n",
    "    \"espresso\":{\"name\":\"Espresso\",\"price\":140.00},\n",
    "    \"americano\":{\"name\":\"Americano\",\"price\":150.00},\n",
    "    \"capuccino\":{\"name\":\"Capuccino\",\"price\":170.00},\n",
    "}\n",
    "\n",
    "def get_product(code):\n",
    "    code = products[code]\n",
    "    return (code)\n",
    "\n",
    "get_product(\"brewedcoffee\") "
   ]
  },
  {
   "cell_type": "markdown",
   "metadata": {},
   "source": [
    "### 2. retrieve product attributes (2 points)\n",
    "a. Write one line of code that calls ```get_product(code)``` and returns the price of that product.\n"
   ]
  },
  {
   "cell_type": "code",
   "execution_count": 3,
   "metadata": {},
   "outputs": [
    {
     "data": {
      "text/plain": [
       "170.0"
      ]
     },
     "execution_count": 3,
     "metadata": {},
     "output_type": "execute_result"
    }
   ],
   "source": [
    "## Answer:\n",
    "products = {\n",
    "    \"brewedcoffee\":{\"name\":\"Brewed Coffee\",\"price\":120.00},\n",
    "    \"espresso\":{\"name\":\"Espresso\",\"price\":140.00},\n",
    "    \"americano\":{\"name\":\"Americano\",\"price\":150.00},\n",
    "    \"capuccino\":{\"name\":\"Capuccino\",\"price\":170.00},\n",
    "}\n",
    "\n",
    "def product_price(code):\n",
    "    return (get_product(code)[\"price\"])\n",
    "\n",
    "product_price(\"capuccino\")\n",
    "    \n",
    "\n",
    "## write your answer here"
   ]
  },
  {
   "cell_type": "markdown",
   "metadata": {},
   "source": [
    "b. Write one line of code that calls ```get_product(code)``` and returns the name of that product."
   ]
  },
  {
   "cell_type": "code",
   "execution_count": 4,
   "metadata": {},
   "outputs": [
    {
     "data": {
      "text/plain": [
       "'Espresso'"
      ]
     },
     "execution_count": 4,
     "metadata": {},
     "output_type": "execute_result"
    }
   ],
   "source": [
    "## Answer:\n",
    "products = {\n",
    "    \"brewedcoffee\":{\"name\":\"Brewed Coffee\",\"price\":120.00},\n",
    "    \"espresso\":{\"name\":\"Espresso\",\"price\":140.00},\n",
    "    \"americano\":{\"name\":\"Americano\",\"price\":150.00},\n",
    "    \"capuccino\":{\"name\":\"Capuccino\",\"price\":170.00},\n",
    "}\n",
    "\n",
    "def product_name(code):\n",
    "    return (get_product(code)[\"name\"])\n",
    "\n",
    "product_name(\"espresso\")\n",
    "## write your answer here"
   ]
  },
  {
   "cell_type": "markdown",
   "metadata": {},
   "source": [
    "### 2. Point-of-Sale Terminal  (5 points)\n",
    "\n",
    "Write a function ```main``` that asks for orders of food from a customer. The system should ask for the following:\n",
    "* Product Code (assume that the clerk has memorized the product codes)\n",
    "* Quantity\n",
    "\n",
    "The system then must update an electronic **food tray** (which is just a fancy term for a list of items ordered). Implement the food tray as a list of ordered items, each of which is a *dictionary* containing the following key-value pairs: \n",
    "\n",
    "* product_code, \n",
    "* quantity\n",
    "* subtotal *(which is just the quantity multiplied by the price of the product)*\n",
    "\n",
    "Design your program such that **food_tray** is a variable of the **main** function for now. We will deal with better software design later on. In any case, if any of your functions need to work on the food_tray, pass it as a parameter.\n",
    "\n",
    "The system must compute the subtotal before appending to the food tray.\n",
    "\n",
    "The system must be able to determine if the customer is done with his/her order. Once done, the system notifies the clerk/user of the grand total. \n",
    "\n",
    "The system then prints out the receipt (for now, just show it appear in the notebook), after which it is ready to process the next customer order. Make sure to clear out the food_tray after each successful order.\n",
    "\n",
    "**Bonus (2 points):**\n",
    "Format the receipt output using various print formatting options. You will have to do research on this.\n",
    "\n",
    "**Bonus (2 points):**\n",
    "If the cashier enters an invalid product code, handle the errors gracefully. For one, the system should not bomb out while processing something invalid; rather, it should tell the cashier that he/she entered an invalid product code and to try again.\n",
    "Note that you will have to do research on Error and Exception handling."
   ]
  },
  {
   "cell_type": "code",
   "execution_count": 6,
   "metadata": {},
   "outputs": [],
   "source": [
    "\n",
    "    ## write your code here\n",
    "    ## hint: append to the food_tray list\n",
    "    # You know how to get code and qty as these come from variables storing entered values from input(\"...\"). \n",
    "    # To compute subtotal you need to get the price of the product (using code) somewhere. \n",
    "    # Your answer in 2a. will help you.\n",
    "    # This new ordered_item dictionary will then need to be added to the food_tray list in a later step. \n",
    "    # We can add dictionaries to lists, right. Call the function add_to_tray(food_tray, ordered_item) to do this.\n",
    "    # The variable food_tray is a **list** of **dictionaries**. The ordered_item variable is a dictionary.\n"
   ]
  },
  {
   "cell_type": "code",
   "execution_count": 5,
   "metadata": {},
   "outputs": [],
   "source": [
    "\n",
    "# ordered_item is dictionary \n",
    "# dictionary uses [] to call something \n",
    "    # ex: ordered_item[\"friedchicken\"]\n",
    "# food_tray is a list of dictionaries\n",
    "# list uses []\n",
    "# using append needs ({})\n",
    "\n",
    "def add_to_tray(food_tray,ordered_item):\n",
    "    return food_tray.append(ordered_item)\n",
    "\n",
    "\n",
    "\n",
    "\n",
    "# was able to add to tray but doesnt update existing foodtray? \n",
    "    "
   ]
  },
  {
   "cell_type": "code",
   "execution_count": null,
   "metadata": {},
   "outputs": [],
   "source": []
  },
  {
   "cell_type": "code",
   "execution_count": null,
   "metadata": {},
   "outputs": [],
   "source": []
  },
  {
   "cell_type": "code",
   "execution_count": 6,
   "metadata": {},
   "outputs": [],
   "source": [
    "\n",
    "def generate_receipt(food_tray):\n",
    "    for item in food_tray:\n",
    "        code = item[\"code\"]\n",
    "        qty = item[\"qty\"]\n",
    "        name = get_product(code)[\"name\"]\n",
    "        price = product_price(code)\n",
    "        subtotal = qty * price\n",
    "        item[\"subtotal\"] = subtotal\n",
    "        print(subtotal)"
   ]
  },
  {
   "cell_type": "code",
   "execution_count": 7,
   "metadata": {},
   "outputs": [],
   "source": [
    "\n",
    "# ordered_item is dictionary \n",
    "# dictionary uses [] to call something \n",
    "    # ex: ordered_item[\"friedchicken\"]\n",
    "# food_tray is a list of dictionaries\n",
    "# list uses []\n",
    "# using append needs ({})\n",
    "\n",
    "\n",
    "def main():\n",
    "    print(\"-\"*40 + \"OFFICIAL RECEIPT\" + \"-\"*40)\n",
    "    food_tray = []\n",
    "    command = \"N\"\n",
    "    total = 0\n",
    "    while(True):\n",
    "        command = input(\"Options: N-New customer, Q-Quit \")\n",
    "        if(command.upper()==\"Q\"):\n",
    "            break \n",
    "        else:\n",
    "            more = \"Y\"\n",
    "            while(more==\"Y\"):\n",
    "                        \n",
    "                code = input(\"Enter Product Code: \")\n",
    "                qty = int(input(\"Enter Quantity:\"))\n",
    "                price = int(product_price(code))\n",
    "                subtotal = int(qty * price)\n",
    "                print(code + \": \"+str(qty)+\": \"+str(subtotal))\n",
    "                ordered_item = dict({\"code\":code,\"qty\":qty,\"price\":price,\"subtotal\":subtotal})\n",
    "                add_to_tray(food_tray,ordered_item) \n",
    "                print (food_tray)\n",
    "                more = input(\"Add more items? (Y/N): \").upper()\n",
    "                total += subtotal\n",
    "             \n",
    "           \n",
    "            generate_receipt(food_tray)\n",
    "        \n",
    "            \n",
    "                \n",
    "            \n",
    "\n",
    "                \n",
    "    \n",
    "        food_tray = [] # clear out food tray\n",
    "\n",
    "    print(\"Exiting CoffeePython POS Terminal. Have a great day.\")  "
   ]
  },
  {
   "cell_type": "code",
   "execution_count": null,
   "metadata": {},
   "outputs": [
    {
     "name": "stdout",
     "output_type": "stream",
     "text": [
      "----------------------------------------OFFICIAL RECEIPT----------------------------------------\n",
      "Options: N-New customer, Q-Quit N\n",
      "Enter Product Code: brewedcoffee\n",
      "Enter Quantity:2\n",
      "brewedcoffee: 2: 240\n",
      "[{'code': 'brewedcoffee', 'qty': 2, 'price': 120, 'subtotal': 240}]\n",
      "Add more items? (Y/N): Y\n",
      "Enter Product Code: capuccino\n",
      "Enter Quantity:3\n",
      "capuccino: 3: 510\n",
      "[{'code': 'brewedcoffee', 'qty': 2, 'price': 120, 'subtotal': 240}, {'code': 'capuccino', 'qty': 3, 'price': 170, 'subtotal': 510}]\n",
      "Add more items? (Y/N): N\n",
      "240.0\n",
      "510.0\n"
     ]
    }
   ],
   "source": [
    "main()"
   ]
  },
  {
   "cell_type": "markdown",
   "metadata": {},
   "source": [
    "#### Error handling"
   ]
  },
  {
   "cell_type": "code",
   "execution_count": null,
   "metadata": {},
   "outputs": [],
   "source": [
    "valid_entry_code = False\n",
    "                while(not valid_entry_code):\n",
    "                    try:\n",
    "                        code = input(\"Enter Product Code: \")\n",
    "                        get_product(code)\n",
    "                        valid_entry_code = True\n",
    "                    except KeyError:\n",
    "                        print(\"Invalid product code. Please try again.\")\n",
    "                        \n",
    "                valid_entry_qty = False\n",
    "                while(not valid_entry_qty):\n",
    "                    try:\n",
    "                        qty = int(input(\"Enter Quantity:\"))\n",
    "                        valid_entry_qty = True\n",
    "                    except ValueError:\n",
    "                        print(\"Invalid quantity.\")\n",
    "                        "
   ]
  }
 ],
 "metadata": {
  "kernelspec": {
   "display_name": "Python 3",
   "language": "python",
   "name": "python3"
  },
  "language_info": {
   "codemirror_mode": {
    "name": "ipython",
    "version": 3
   },
   "file_extension": ".py",
   "mimetype": "text/x-python",
   "name": "python",
   "nbconvert_exporter": "python",
   "pygments_lexer": "ipython3",
   "version": "3.7.3"
  }
 },
 "nbformat": 4,
 "nbformat_minor": 2
}
